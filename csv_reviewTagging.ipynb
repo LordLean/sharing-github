{
 "cells": [
  {
   "cell_type": "code",
   "execution_count": 1,
   "metadata": {},
   "outputs": [],
   "source": [
    "import sys\n",
    "#sys.path.append(r'\\\\ad.susx.ac.uk\\ITS\\TeachingResources\\Departments\\Informatics\\LanguageEngineering\\resources')\n",
    "sys.path.append(r'/Users/alex/resources') \n",
    "import nltk\n",
    "from pandas import * \n",
    "import pandas as pd\n",
    "from nltk.tokenize import word_tokenize\n",
    "from nltk.corpus import stopwords\n",
    "from nltk.corpus import wordnet as wn\n",
    "from nltk.corpus import wordnet_ic as wn_ic"
   ]
  },
  {
   "cell_type": "code",
   "execution_count": null,
   "metadata": {},
   "outputs": [],
   "source": [
    "df = pd.read_excel(r'/Users/alex/Downloads/test.xlsx', sheetName = \"Coding\") #insert xlsx\n",
    "creative = df[\"Creative\"].tolist()\n",
    "comment = df[\"Comment\"].tolist()\n",
    "\n",
    "test_list = list()\n",
    "for i in range(len(comment)):\n",
    "    test_list.append(word_tokenize(str(comment[i])))\n"
   ]
  },
  {
   "cell_type": "code",
   "execution_count": null,
   "metadata": {},
   "outputs": [],
   "source": [
    "def get_syns(word):\n",
    "\n",
    "    synonyms = list()\n",
    "    for syn in wn.synsets(word):\n",
    "        for l in syn.lemmas():\n",
    "                synonyms.append(l.name())\n",
    "\n",
    "    return synonyms\n",
    "\n",
    "get_syns('boring')\n",
    "\n",
    "\n",
    "\n",
    "def gimme_word(tagged_word,tagname):\n",
    "    \n",
    "    null_list = list()\n",
    "    \n",
    "    for i in range(len(test_list)):\n",
    "        truth = False\n",
    "        for word in test_list[i]:\n",
    "            if word.lower() in get_syns(tagged_word):\n",
    "                truth = True\n",
    "        if truth:\n",
    "            null_list.append(tagname)\n",
    "        else:\n",
    "            null_list.append(\" \")\n",
    "\n",
    "    return null_list\n",
    "    \n",
    "gimme_word(\"boring\", \"NEG-boring\")\n",
    "\n",
    "\n",
    "\n",
    "\n",
    "import xlwt\n",
    "from tempfile import TemporaryFile\n",
    "book = xlwt.Workbook()\n",
    "sheet1 = book.add_sheet('sheet1')\n",
    "\n",
    "def convert_to_csv(tagged_word,tagname):\n",
    "\n",
    "    for i,e in enumerate(gimme_word(tagged_word, tagname)):\n",
    "        sheet1.write(i,1,e)\n",
    "\n",
    "    name = tagname + \".xls\"\n",
    "    book.save(name)\n",
    "    book.save(TemporaryFile())\n"
   ]
  },
  {
   "cell_type": "code",
   "execution_count": null,
   "metadata": {},
   "outputs": [],
   "source": [
    "convert_to_csv(\"boring\", \"NEG-test\")"
   ]
  }
 ],
 "metadata": {
  "kernelspec": {
   "display_name": "Python 3",
   "language": "python",
   "name": "python3"
  },
  "language_info": {
   "codemirror_mode": {
    "name": "ipython",
    "version": 3
   },
   "file_extension": ".py",
   "mimetype": "text/x-python",
   "name": "python",
   "nbconvert_exporter": "python",
   "pygments_lexer": "ipython3",
   "version": "3.7.4"
  }
 },
 "nbformat": 4,
 "nbformat_minor": 2
}
