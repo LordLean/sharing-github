{
  "nbformat": 4,
  "nbformat_minor": 0,
  "metadata": {
    "colab": {
      "name": "river_crossing_problems.ipynb",
      "provenance": [],
      "collapsed_sections": [],
      "authorship_tag": "ABX9TyNsPoBKBx3OSobkqCPZo6h3",
      "include_colab_link": true
    },
    "kernelspec": {
      "name": "python3",
      "display_name": "Python 3"
    }
  },
  "cells": [
    {
      "cell_type": "markdown",
      "metadata": {
        "id": "view-in-github",
        "colab_type": "text"
      },
      "source": [
        "<a href=\"https://colab.research.google.com/github/LordLean/sharing-github/blob/master/Search%20Implementations/river_crossing_problems.ipynb\" target=\"_parent\"><img src=\"https://colab.research.google.com/assets/colab-badge.svg\" alt=\"Open In Colab\"/></a>"
      ]
    },
    {
      "cell_type": "code",
      "metadata": {
        "id": "Gw5MTd8crYBC"
      },
      "source": [
        "import numpy as np"
      ],
      "execution_count": 1,
      "outputs": []
    },
    {
      "cell_type": "code",
      "metadata": {
        "id": "yDbrD7VPUkdo"
      },
      "source": [
        "# initial_state[0] represents number of missionaries.\n",
        "# initial_state[1] represents number of cannibals.\n",
        "# initial_state[2] represents position of boat (left-1,right-0).\n",
        "initial_state = (3,3,1)\n",
        "\n",
        "goal_state = (0,0,0)"
      ],
      "execution_count": 9,
      "outputs": []
    },
    {
      "cell_type": "code",
      "metadata": {
        "id": "O1RgmUww16_H"
      },
      "source": [
        "def is_valid(state):\n",
        "\n",
        "  valid_range = range(0,4) # 0,1,2,3.\n",
        "\n",
        "  cond_one = state[0] >= state[1] # Missionaries at least outnumber cannibals.\n",
        "  cond_two = state[0] and state[1] in valid_range # Never more than 3 each M/Cs or less than 0.\n",
        "\n",
        "  if cond_one and cond_two:\n",
        "    return True\n",
        "  else:\n",
        "    return False\n",
        "\n",
        "\n",
        "def visited(visited_list, curr_state):\n",
        "  \n",
        "  if curr_state in visited_list:\n",
        "    return True, visited_list\n",
        "  else:\n",
        "    visited_list.append(curr_state)\n",
        "    return False, visited_list\n",
        "\n",
        "\n",
        "def successor(curr_state):\n",
        "\n",
        "  valid_moves = [(1,0,1), (0,1,1), (2,0,1), (0,2,1), (1,1,1)]\n",
        "  valid_successor_states = []\n",
        "\n",
        "  for move in valid_moves:\n",
        "    # Boat on right hand side. I.e. Move x to left.\n",
        "    if curr_state[2] == 0:\n",
        "      successor_state = tuple(np.add(curr_state, move))\n",
        "    # Boat on left hand side. I.e. Move x to right.\n",
        "    elif curr_state[2] == 1:\n",
        "      successor_state = tuple(np.subtract(curr_state, move))\n",
        "    # Check all validity conditions hold up.\n",
        "    if is_valid(successor_state):\n",
        "      valid_successor_states.append(successor_state)\n",
        "\n",
        "  return valid_successor_states"
      ],
      "execution_count": null,
      "outputs": []
    },
    {
      "cell_type": "code",
      "metadata": {
        "id": "S1QeUMtpq0Sm",
        "outputId": "4c63880a-216e-442b-9496-eef8b1c922e4",
        "colab": {
          "base_uri": "https://localhost:8080/",
          "height": 70
        }
      },
      "source": [
        "s = successor(initial_state)\n",
        "distance = 0\n",
        "\n",
        "for item in s:\n",
        "  print(item)\n",
        "\n",
        "h1 = distance "
      ],
      "execution_count": 8,
      "outputs": [
        {
          "output_type": "stream",
          "text": [
            "(3, 2, 0)\n",
            "(3, 1, 0)\n",
            "(2, 2, 0)\n"
          ],
          "name": "stdout"
        }
      ]
    },
    {
      "cell_type": "code",
      "metadata": {
        "id": "WRvsXQSIwqRY"
      },
      "source": [
        "# current_state = initial_state\n",
        "# queue = [[current_state]]\n",
        "\n",
        "# i = 0\n",
        "# while goal_state not in queue and i < 20:\n",
        "#   for state_ls in queue:\n",
        "#     for state in state_ls:\n",
        "#       print(state)\n",
        "#       queue.append(successor(state))\n",
        "#       queue = flatten(queue)\n",
        "#   i += 1"
      ],
      "execution_count": null,
      "outputs": []
    },
    {
      "cell_type": "code",
      "metadata": {
        "id": "ufvnNpci53UY"
      },
      "source": [
        "def flatten(ls):\n",
        "  ls = [item for sublist in ls for item in sublist]\n",
        "  return ls"
      ],
      "execution_count": 6,
      "outputs": []
    }
  ]
}