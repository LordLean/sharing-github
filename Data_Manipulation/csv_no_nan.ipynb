{
  "nbformat": 4,
  "nbformat_minor": 0,
  "metadata": {
    "colab": {
      "name": "csv_no_nan.ipynb",
      "provenance": [],
      "collapsed_sections": [],
      "authorship_tag": "ABX9TyMGlFqVc9YOSvRq1trSWSFW",
      "include_colab_link": true
    },
    "kernelspec": {
      "name": "python3",
      "display_name": "Python 3"
    }
  },
  "cells": [
    {
      "cell_type": "markdown",
      "metadata": {
        "id": "view-in-github",
        "colab_type": "text"
      },
      "source": [
        "<a href=\"https://colab.research.google.com/github/LordLean/sharing-github/blob/master/Data_Manipulation/csv_no_nan.ipynb\" target=\"_parent\"><img src=\"https://colab.research.google.com/assets/colab-badge.svg\" alt=\"Open In Colab\"/></a>"
      ]
    },
    {
      "cell_type": "code",
      "metadata": {
        "id": "Io2qi781APn8"
      },
      "source": [
        "from google.colab import files\n",
        "import pandas as pd\n",
        "import os"
      ],
      "execution_count": null,
      "outputs": []
    },
    {
      "cell_type": "code",
      "metadata": {
        "id": "5FA9MoR5AT0x"
      },
      "source": [
        "files.upload()"
      ],
      "execution_count": null,
      "outputs": []
    },
    {
      "cell_type": "code",
      "metadata": {
        "id": "dO3gBJboazrk"
      },
      "source": [
        "'''\n",
        "For a zipped file of .csvs to be edited. \n",
        "Change \"Archive\" to whatever the zipped file's name is.\n",
        "'''\n",
        "!unzip Archive.zip"
      ],
      "execution_count": null,
      "outputs": []
    },
    {
      "cell_type": "code",
      "metadata": {
        "id": "c3mT55XJb4S5"
      },
      "source": [
        "'''\n",
        "Change \"test_1.csv\" to .csv file name, as appears above.\n",
        "A column that only contains NaN (empty/invalid) values will be removed.\n",
        "at_least is set to 1, this means at least one value in a row\n",
        "has to be not NaN for the row to be kept.\n",
        "Thus all completely empty rows and columns are trimmed.\n",
        "Output is saved to local storage as the original file name with \" Output\" appended to end.\n",
        "'''\n",
        "\n",
        "files_ = os.listdir()\n",
        "new_dir = []\n",
        "for file_ in files_:\n",
        "  if file_[-3:] == \"csv\":\n",
        "    new_dir.append(file_)\n",
        "\n",
        "\n",
        "at_least = 1\n",
        "for file_ in new_dir:\n",
        "  df = pd.read_csv(file_)\n",
        "  file_ = file_[:-4] + \" Output\" + file_[-4:]\n",
        "  df.dropna(axis=1,how=\"all\").dropna(thresh=at_least).to_csv(file_, index=False)\n",
        "  files.download(file_)"
      ],
      "execution_count": null,
      "outputs": []
    }
  ]
}