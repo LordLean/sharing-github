{
  "nbformat": 4,
  "nbformat_minor": 0,
  "metadata": {
    "colab": {
      "name": "cannibals_and_missionaries.ipynb",
      "provenance": [],
      "collapsed_sections": [],
      "authorship_tag": "ABX9TyM4UkSJ3/1zrJLByhKWrds9",
      "include_colab_link": true
    },
    "kernelspec": {
      "name": "python3",
      "display_name": "Python 3"
    }
  },
  "cells": [
    {
      "cell_type": "markdown",
      "metadata": {
        "id": "view-in-github",
        "colab_type": "text"
      },
      "source": [
        "<a href=\"https://colab.research.google.com/github/LordLean/sharing-github/blob/master/Search-Implementations/cannibals_and_missionaries.ipynb\" target=\"_parent\"><img src=\"https://colab.research.google.com/assets/colab-badge.svg\" alt=\"Open In Colab\"/></a>"
      ]
    },
    {
      "cell_type": "code",
      "metadata": {
        "id": "Gw5MTd8crYBC"
      },
      "source": [
        "import numpy as np"
      ],
      "execution_count": 1,
      "outputs": []
    },
    {
      "cell_type": "code",
      "metadata": {
        "id": "pMsE4o60D3HZ"
      },
      "source": [
        "# initial_state[0] represents number of missionaries on the right.\n",
        "# initial_state[1] represents number of cannibals on the right.\n",
        "# initial_state[2] represents position of boat (left-1,right-0)."
      ],
      "execution_count": 2,
      "outputs": []
    },
    {
      "cell_type": "code",
      "metadata": {
        "id": "O1RgmUww16_H"
      },
      "source": [
        "class AStar(object):\n",
        "\n",
        "  def __init__(self, initial_state, goal_state, heuristic):\n",
        "    self.initial_state = initial_state\n",
        "    self.current_state = self.initial_state\n",
        "    self.goal_state = goal_state\n",
        "    self.movement_cost_start = 0\n",
        "    self.heuristic = heuristic\n",
        "    self.queue = []\n",
        "    self.visited_list = []\n",
        "\n",
        "\n",
        "  def is_valid(self, state):\n",
        "    valid_range = range(0,4) # 0,1,2,3.\n",
        "    cond_one = state[0] >= state[1] # Missionaries at least outnumber cannibals.\n",
        "    cond_two = state[0] in valid_range and state[1] in valid_range # Never more than 3 each M/Cs or less than 0.\n",
        "    # If valid return True.\n",
        "    if cond_one and cond_two:\n",
        "      return True\n",
        "    else:\n",
        "      return False\n",
        "\n",
        "\n",
        "  def successor(self):\n",
        "\n",
        "    valid_moves = [(1,0,1), (0,1,1), (2,0,1), (0,2,1), (1,1,1)]\n",
        "    valid_successor_states = []\n",
        "\n",
        "    side = None\n",
        "    if self.current_state[2] == 0:\n",
        "      side = 0\n",
        "    elif self.current_state[2] == 1:\n",
        "      side = 1\n",
        "\n",
        "    for move in valid_moves:\n",
        "      successor_state = (_,_,_)\n",
        "      # Boat on right hand side. I.e. Move x to left.\n",
        "      if side == 0:\n",
        "        successor_state = tuple(np.add(self.current_state, move))\n",
        "      # Boat on left hand side. I.e. Move x to right.\n",
        "      elif side == 1:\n",
        "        successor_state = tuple(np.subtract(self.current_state, move))\n",
        "      # Check all validity conditionals hold up: valid range, valid ratio, not visited.\n",
        "      if self.is_valid(successor_state):\n",
        "        valid_successor_states.append(successor_state)\n",
        "\n",
        "    return valid_successor_states\n",
        "\n",
        "\n",
        "  def heuristic_func(self, state):\n",
        "    h = 0\n",
        "    if self.heuristic == 0:\n",
        "      h = state[0] + state[1] - 1\n",
        "    return h\n",
        "\n",
        "\n",
        "  def run(self):\n",
        "    # Movement cost start\n",
        "    g = 1 \n",
        "    # While goal state is not yet found.\n",
        "    while self.current_state != self.goal_state:\n",
        "      f_value_list = []\n",
        "      successor_states = self.successor()\n",
        "      for state in successor_states:\n",
        "        h = self.heuristic_func(state)\n",
        "        f_value_list.append(g + h)\n",
        "      # Calulate position of successor state with minimium f_value.\n",
        "      index_min = np.argmin(f_value_list)\n",
        "      self.current_state = successor_states[index_min]\n",
        "      print(self.current_state, \"\\n\")\n",
        "      # Increase distance from origin.\n",
        "      g += 1\n",
        "\n"
      ],
      "execution_count": 149,
      "outputs": []
    },
    {
      "cell_type": "code",
      "metadata": {
        "id": "b5BqL86Yfe1N",
        "outputId": "23e6b55e-cc0f-4893-d255-2c6693e372e3",
        "colab": {
          "base_uri": "https://localhost:8080/",
          "height": 310
        }
      },
      "source": [
        "initial_state = (3,3,1)\n",
        "\n",
        "goal_state = (0,0,0)\n",
        "\n",
        "graph = AStar(initial_state, goal_state, 0)\n",
        "graph.is_valid(graph.current_state)\n",
        "graph.run()"
      ],
      "execution_count": 150,
      "outputs": [
        {
          "output_type": "stream",
          "text": [
            "(3, 1, 0) \n",
            "\n",
            "(3, 2, 1) \n",
            "\n",
            "(3, 0, 0) \n",
            "\n",
            "(3, 1, 1) \n",
            "\n",
            "(1, 1, 0) \n",
            "\n",
            "(2, 1, 1) \n",
            "\n",
            "(1, 0, 0) \n",
            "\n",
            "(2, 0, 1) \n",
            "\n",
            "(0, 0, 0) \n",
            "\n"
          ],
          "name": "stdout"
        }
      ]
    },
    {
      "cell_type": "code",
      "metadata": {
        "id": "WRvsXQSIwqRY"
      },
      "source": [
        "# def successor(state):\n",
        "\n",
        "#     valid_moves = [(1,0,1), (0,1,1), (2,0,1), (0,2,1), (1,1,1)]\n",
        "#     valid_successor_states = []\n",
        "\n",
        "#     for move in valid_moves:\n",
        "#       # Boat on right hand side. I.e. Move x to left.\n",
        "#       if state[2] == 0:\n",
        "#         successor_state = tuple(np.add(state, move))\n",
        "#       # Boat on left hand side. I.e. Move x to right.\n",
        "#       elif state[2] == 1:\n",
        "#         successor_state = tuple(np.subtract(state, move))\n",
        "#       # Check all validity conditions hold up.\n",
        "#       if is_valid(successor_state):\n",
        "#         valid_successor_states.append(successor_state)\n",
        "\n",
        "#     return valid_successor_states\n",
        "\n",
        "# print(successor(initial_state))\n",
        "# print(successor(successor(initial_state)[0]))\n",
        "\n",
        "# current_state = initial_state\n",
        "# queue = [[current_state]]\n",
        "\n",
        "# i = 0\n",
        "# while goal_state not in queue and i < 20:\n",
        "#   for state_ls in queue:\n",
        "#     for state in state_ls:\n",
        "#       print(state)\n",
        "#       queue.append(successor(state))\n",
        "#       queue = flatten(queue)\n",
        "#   i += 1"
      ],
      "execution_count": 139,
      "outputs": []
    }
  ]
}